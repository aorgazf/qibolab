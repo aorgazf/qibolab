{
 "cells": [
  {
   "cell_type": "code",
   "execution_count": 1,
   "metadata": {},
   "outputs": [],
   "source": [
    "from qibolab.platforms.multiqubit import MultiqubitPlatform\n",
    "from qibolab.pulses import Pulse, ReadoutPulse, PulseSequence\n",
    "from qibolab.paths import qibolab_folder"
   ]
  },
  {
   "cell_type": "code",
   "execution_count": 3,
   "metadata": {},
   "outputs": [
    {
     "name": "stderr",
     "output_type": "stream",
     "text": [
      "[Qibo 0.1.8rc1.dev0|INFO|2022-08-05 16:57:56]: Loading platform icarusq from runcard c:\\qibolab\\src\\qibolab\\runcards\\icarusqfpga.yml\n"
     ]
    }
   ],
   "source": [
    "runcard = qibolab_folder / \"runcards\" / \"icarusqfpga.yml\"\n",
    "platform = MultiqubitPlatform(\"icarusq\", runcard)"
   ]
  },
  {
   "cell_type": "code",
   "execution_count": 4,
   "metadata": {},
   "outputs": [],
   "source": [
    "# Readout qubit 0\n",
    "ps = PulseSequence()\n",
    "ps.add(ReadoutPulse(0, 5e3, 8191, 4.868e9, 0, 'Rectangular', \"i8\", qubit=0))"
   ]
  },
  {
   "cell_type": "code",
   "execution_count": 5,
   "metadata": {},
   "outputs": [
    {
     "name": "stderr",
     "output_type": "stream",
     "text": [
      "[Qibo 0.1.8rc1.dev0|INFO|2022-08-05 16:58:02]: Connecting to icarusq instrument board0.\n"
     ]
    }
   ],
   "source": [
    "platform.connect()\n",
    "platform.setup()\n",
    "results = platform.execute_pulse_sequence(ps, 10)"
   ]
  },
  {
   "cell_type": "code",
   "execution_count": 6,
   "metadata": {},
   "outputs": [],
   "source": [
    "# Send a XY pulse to the X3 port for qubit 0 and read it out\n",
    "ps.add(Pulse(0, 100, 8191, 4.868e9, 0, 'Rectangular', \"x3\", qubit=0))\n",
    "ps.add(ReadoutPulse(100, 5e3, 8191, 4.868e9, 0, 'Rectangular', \"i8\", qubit=0))\n",
    "results = platform.execute_pulse_sequence(ps, 10)"
   ]
  },
  {
   "cell_type": "code",
   "execution_count": 7,
   "metadata": {},
   "outputs": [],
   "source": [
    "platform.disconnect()"
   ]
  },
  {
   "cell_type": "code",
   "execution_count": null,
   "metadata": {},
   "outputs": [],
   "source": []
  }
 ],
 "metadata": {
  "kernelspec": {
   "display_name": "Python 3",
   "language": "python",
   "name": "python3"
  },
  "language_info": {
   "codemirror_mode": {
    "name": "ipython",
    "version": 3
   },
   "file_extension": ".py",
   "mimetype": "text/x-python",
   "name": "python",
   "nbconvert_exporter": "python",
   "pygments_lexer": "ipython3",
   "version": "3.8.3"
  }
 },
 "nbformat": 4,
 "nbformat_minor": 4
}
