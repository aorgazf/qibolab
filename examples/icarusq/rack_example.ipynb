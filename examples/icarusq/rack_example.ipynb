{
 "cells": [
  {
   "cell_type": "code",
   "execution_count": 1,
   "metadata": {},
   "outputs": [],
   "source": [
    "from qibolab.platforms.multiqubit import MultiqubitPlatform\n",
    "from qibolab.pulses import Pulse, ReadoutPulse, PulseSequence\n",
    "from qibolab.paths import qibolab_folder"
   ]
  },
  {
   "cell_type": "code",
   "execution_count": 2,
   "metadata": {},
   "outputs": [
    {
     "name": "stderr",
     "output_type": "stream",
     "text": [
      "[Qibo 0.1.8rc1.dev0|INFO|2022-08-05 17:11:19]: Loading platform icarusq from runcard c:\\users\\atomicguest\\documents\\github\\qibolab\\src\\qibolab\\runcards\\icarusq.yml\n"
     ]
    }
   ],
   "source": [
    "runcard = qibolab_folder / \"runcards\" / \"icarusq.yml\"\n",
    "platform = MultiqubitPlatform(\"icarusq\", runcard)"
   ]
  },
  {
   "cell_type": "code",
   "execution_count": 3,
   "metadata": {},
   "outputs": [],
   "source": [
    "# Readout qubit 0\n",
    "ps = PulseSequence()\n",
    "ps.add(ReadoutPulse(0, 5e3, 0.375, 1e8, 0, 'Rectangular', \"i1_ro\", qubit=0))"
   ]
  },
  {
   "cell_type": "code",
   "execution_count": 4,
   "metadata": {},
   "outputs": [
    {
     "name": "stderr",
     "output_type": "stream",
     "text": [
      "[Qibo 0.1.8rc1.dev0|INFO|2022-08-05 17:11:19]: Connecting to icarusq instrument rack.\n"
     ]
    },
    {
     "name": "stdout",
     "output_type": "stream",
     "text": [
      "Connected to: TEKTRONIX AWG5204 (serial:B010158, firmware:FV:6.1.0054.0) in 0.10s\n"
     ]
    },
    {
     "name": "stderr",
     "output_type": "stream",
     "text": [
      "[Qibo 0.1.8rc1.dev0|INFO|2022-08-05 17:11:22]: Connecting to icarusq instrument qb_lo.\n",
      "[Qibo 0.1.8rc1.dev0|INFO|2022-08-05 17:11:22]: Connecting to icarusq instrument ro_lo.\n",
      "[Qibo 0.1.8rc1.dev0|INFO|2022-08-05 17:11:22]: Connecting to icarusq instrument qb_att.\n",
      "[Qibo 0.1.8rc1.dev0|INFO|2022-08-05 17:11:22]: Connecting to icarusq instrument ro_att.\n"
     ]
    }
   ],
   "source": [
    "platform.connect()\n",
    "platform.setup()\n",
    "platform.start()\n",
    "results = platform.execute_pulse_sequence(ps, 2000)"
   ]
  },
  {
   "cell_type": "code",
   "execution_count": 5,
   "metadata": {},
   "outputs": [],
   "source": [
    "# Send a XY pulse to the X3 port for qubit 0 and read it out\n",
    "ps = PulseSequence()\n",
    "ps.add(Pulse(0, 100, 0.375, 1e8, 0, 'Rectangular', \"i1_xy\", qubit=0))\n",
    "ps.add(ReadoutPulse(100, 5e3, 0.375, 2.51e8, 0, 'Rectangular', \"i1_ro\", qubit=0))\n",
    "results = platform.execute_pulse_sequence(ps, 2000)"
   ]
  },
  {
   "cell_type": "code",
   "execution_count": 6,
   "metadata": {},
   "outputs": [],
   "source": [
    "platform.stop()\n",
    "platform.disconnect()"
   ]
  },
  {
   "cell_type": "code",
   "execution_count": null,
   "metadata": {},
   "outputs": [],
   "source": []
  }
 ],
 "metadata": {
  "kernelspec": {
   "display_name": "Python 3 (ipykernel)",
   "language": "python",
   "name": "python3"
  },
  "language_info": {
   "codemirror_mode": {
    "name": "ipython",
    "version": 3
   },
   "file_extension": ".py",
   "mimetype": "text/x-python",
   "name": "python",
   "nbconvert_exporter": "python",
   "pygments_lexer": "ipython3",
   "version": "3.8.5"
  }
 },
 "nbformat": 4,
 "nbformat_minor": 4
}
