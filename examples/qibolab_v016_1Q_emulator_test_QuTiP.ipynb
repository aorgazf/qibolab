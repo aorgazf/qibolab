{
 "cells": [
  {
   "cell_type": "markdown",
   "id": "1472864f-98c4-422a-99ec-d0fd67d4bf9e",
   "metadata": {},
   "source": [
    "# Qibolab v0.1.6 1Q emulator demo for QuTiP engine"
   ]
  },
  {
   "cell_type": "markdown",
   "id": "e2fcc40a",
   "metadata": {},
   "source": [
    "Results updated on: 15 May 2024"
   ]
  },
  {
   "cell_type": "markdown",
   "id": "c281a2bf-dc45-441a-8869-4a0a7d3c35bc",
   "metadata": {
    "tags": []
   },
   "source": [
    "## Example 0: Emulator Setup"
   ]
  },
  {
   "cell_type": "code",
   "execution_count": 1,
   "id": "4406fccb-60aa-415b-b264-d27c8a5b4eb7",
   "metadata": {
    "tags": []
   },
   "outputs": [
    {
     "name": "stderr",
     "output_type": "stream",
     "text": [
      "[Qibo 0.2.6|INFO|2024-05-17 18:32:41]: Loading platform ibmfakebelem_q0 emulator running general no coupler CR drive model on Qutip engine\n",
      "INFO:qibo.config:Loading platform ibmfakebelem_q0 emulator running general no coupler CR drive model on Qutip engine\n"
     ]
    }
   ],
   "source": [
    "# add directory of emulator platform to QIBOLAB_PLATFORMS environment variable\n",
    "import pathlib, os\n",
    "emulator_path = pathlib.Path(os.path.abspath('')).parent/'tests/emulators/'\n",
    "os.environ[\"QIBOLAB_PLATFORMS\"] = emulator_path.as_posix() \n",
    "\n",
    "# create emulator platform as per any other platforms\n",
    "from qibolab import create_platform\n",
    "emulator_platform = create_platform(\"default_q0\")\n",
    "pulse_simulator = emulator_platform.instruments['pulse_simulator']\n",
    "simulation_engine = pulse_simulator.simulation_engine"
   ]
  },
  {
   "cell_type": "code",
   "execution_count": 2,
   "id": "34615735-48b0-4c85-bf43-5f62a230504b",
   "metadata": {
    "tags": []
   },
   "outputs": [
    {
     "name": "stdout",
     "output_type": "stream",
     "text": [
      "Dictionary\n"
     ]
    },
    {
     "data": {
      "text/latex": [
       "$O_i = b^{\\dagger}_i b_i$"
      ],
      "text/plain": [
       "<IPython.core.display.Latex object>"
      ]
     },
     "metadata": {},
     "output_type": "display_data"
    },
    {
     "data": {
      "text/latex": [
       "$X_i = b^{\\dagger}_i + b_i$"
      ],
      "text/plain": [
       "<IPython.core.display.Latex object>"
      ]
     },
     "metadata": {},
     "output_type": "display_data"
    },
    {
     "name": "stdout",
     "output_type": "stream",
     "text": [
      "\n",
      "\n",
      "---------------------\n",
      "One-body drift terms:\n",
      "---------------------\n"
     ]
    },
    {
     "data": {
      "text/latex": [
       "$O_0$"
      ],
      "text/plain": [
       "<IPython.core.display.Latex object>"
      ]
     },
     "metadata": {},
     "output_type": "display_data"
    },
    {
     "data": {
      "text/latex": [
       "$5.090167234445013~\\text{GHz}$"
      ],
      "text/plain": [
       "<IPython.core.display.Latex object>"
      ]
     },
     "metadata": {},
     "output_type": "display_data"
    },
    {
     "data": {
      "text/latex": [
       "$O_0O_0-O_0$"
      ],
      "text/plain": [
       "<IPython.core.display.Latex object>"
      ]
     },
     "metadata": {},
     "output_type": "display_data"
    },
    {
     "data": {
      "text/latex": [
       "$-0.1680615025910826~\\text{GHz}$"
      ],
      "text/plain": [
       "<IPython.core.display.Latex object>"
      ]
     },
     "metadata": {},
     "output_type": "display_data"
    },
    {
     "name": "stdout",
     "output_type": "stream",
     "text": [
      "---------------------\n",
      "Two-body drift terms:\n",
      "---------------------\n",
      "None\n",
      "---------------------\n",
      "One-body drive terms:\n",
      "---------------------\n"
     ]
    },
    {
     "data": {
      "text/latex": [
       "$X_0$"
      ],
      "text/plain": [
       "<IPython.core.display.Latex object>"
      ]
     },
     "metadata": {},
     "output_type": "display_data"
    },
    {
     "data": {
      "text/latex": [
       "$0.12545753819061986~\\text{GHz}$"
      ],
      "text/plain": [
       "<IPython.core.display.Latex object>"
      ]
     },
     "metadata": {},
     "output_type": "display_data"
    },
    {
     "name": "stdout",
     "output_type": "stream",
     "text": [
      "---------------------\n",
      "Dissipative terms:\n",
      "---------------------\n",
      ">> t1 Linblad operators:\n"
     ]
    },
    {
     "data": {
      "text/latex": [
       "$\\sigma^+_0$"
      ],
      "text/plain": [
       "<IPython.core.display.Latex object>"
      ]
     },
     "metadata": {},
     "output_type": "display_data"
    },
    {
     "data": {
      "text/latex": [
       "$0.0023758601136844794~\\sqrt{{ \\text{GHz} }}$"
      ],
      "text/plain": [
       "<IPython.core.display.Latex object>"
      ]
     },
     "metadata": {},
     "output_type": "display_data"
    },
    {
     "name": "stdout",
     "output_type": "stream",
     "text": [
      ">> t2 Linblad operators:\n"
     ]
    },
    {
     "data": {
      "text/latex": [
       "$\\sigma^Z_0$"
      ],
      "text/plain": [
       "<IPython.core.display.Latex object>"
      ]
     },
     "metadata": {},
     "output_type": "display_data"
    },
    {
     "data": {
      "text/latex": [
       "$0.002163732391848669~\\sqrt{{ \\text{GHz} }}$"
      ],
      "text/plain": [
       "<IPython.core.display.Latex object>"
      ]
     },
     "metadata": {},
     "output_type": "display_data"
    },
    {
     "name": "stdout",
     "output_type": "stream",
     "text": [
      "---------------------\n"
     ]
    }
   ],
   "source": [
    "# import visualization tools\n",
    "from qibolab_visualization.emulator import print_hamiltonian, plot_fidelities\n",
    "print_hamiltonian(simulation_engine.model_config)\n",
    "# todo: add print_sim_details to qibolab_visualization.emulator to include initial state"
   ]
  },
  {
   "cell_type": "markdown",
   "id": "877ff184-de15-4ceb-8080-87ac8a4a8437",
   "metadata": {
    "tags": []
   },
   "source": [
    "## Example 1: Simulation of Pulse Sequence"
   ]
  },
  {
   "cell_type": "markdown",
   "id": "1c0e3a88-5bfb-46e1-b8b0-6c3ff6e05976",
   "metadata": {
    "tags": []
   },
   "source": [
    "### Preparation: Construct Pulse Sequence"
   ]
  },
  {
   "cell_type": "code",
   "execution_count": 3,
   "id": "ea4c8af3-29c1-4794-ad2a-3cb74550931d",
   "metadata": {
    "tags": []
   },
   "outputs": [],
   "source": [
    "from qibolab.pulses import (\n",
    "    PulseSequence,\n",
    "    DrivePulse,\n",
    "    ReadoutPulse,\n",
    "    Rectangular,\n",
    "    Gaussian,\n",
    "    Drag\n",
    ")\n",
    "\n",
    "# Extract preset pulses from runcard\n",
    "pulse_x0 = emulator_platform.create_RX_pulse(qubit=0, start=0)\n",
    "pulse_r0 = emulator_platform.create_qubit_readout_pulse(qubit=0, start=(170/4.5))\n",
    "\n",
    "# Define pulse sequence and add pulses\n",
    "sequence = PulseSequence()\n",
    "sequence.add(pulse_x0)\n",
    "sequence.add(pulse_r0)"
   ]
  },
  {
   "cell_type": "markdown",
   "id": "2944d6e7",
   "metadata": {
    "tags": []
   },
   "source": [
    "### Execution: Emulator Pulse and Generate Pulse Sequence"
   ]
  },
  {
   "cell_type": "code",
   "execution_count": 4,
   "id": "dbdce27a-d9b3-4e28-b1eb-827f7feead6f",
   "metadata": {
    "tags": []
   },
   "outputs": [
    {
     "name": "stderr",
     "output_type": "stream",
     "text": [
      "[Qibo 0.2.6|INFO|2024-05-17 18:32:44]: Minimal execution time (sequence): 0.3050155555555556\n",
      "INFO:qibo.config:Minimal execution time (sequence): 0.3050155555555556\n"
     ]
    },
    {
     "name": "stdout",
     "output_type": "stream",
     "text": [
      " Total run time:   1.85s*] Elapsed 1.85s / Remaining 00:00:00:00[*******  32%           ] Elapsed 0.62s / Remaining 00:00:00:01[******** 36%           ] Elapsed 0.76s / Remaining 00:00:00:01\n"
     ]
    }
   ],
   "source": [
    "from qibolab.execution_parameters import ExecutionParameters\n",
    "\n",
    "# Executes a pulse sequence.\n",
    "options = ExecutionParameters(nshots=1000)#, relaxation_time=100)\n",
    "results = emulator_platform.execute_pulse_sequence(sequence, options=options)"
   ]
  },
  {
   "cell_type": "code",
   "execution_count": 6,
   "id": "fd7a194a-73e2-4a5d-ac76-2933706d40f3",
   "metadata": {},
   "outputs": [
    {
     "data": {
      "text/plain": [
       "dict_keys(['sequence_duration', 'simulation_dt', 'simulation_time', 'output_states'])"
      ]
     },
     "execution_count": 6,
     "metadata": {},
     "output_type": "execute_result"
    }
   ],
   "source": [
    "simulation_results = results['simulation']\n",
    "simulation_results.keys()"
   ]
  },
  {
   "cell_type": "code",
   "execution_count": 7,
   "id": "c26a32fd-389b-43b6-8c14-894d37e829bb",
   "metadata": {},
   "outputs": [
    {
     "data": {
      "text/plain": [
       "1.8496383329999997"
      ]
     },
     "execution_count": 7,
     "metadata": {},
     "output_type": "execute_result"
    }
   ],
   "source": [
    "simulation_results['simulation_time']"
   ]
  },
  {
   "cell_type": "code",
   "execution_count": 13,
   "id": "79098d74-a665-4c43-8331-90e90c983b8c",
   "metadata": {},
   "outputs": [],
   "source": [
    "# Generate list of discretized times used in simulation\n",
    "import numpy as np\n",
    "sequence_duration = simulation_results['sequence_duration']\n",
    "simulation_dt = simulation_results['simulation_dt']\n",
    "sim_time_list = np.linspace(0,sequence_duration,num=int(sequence_duration/simulation_dt)+1)"
   ]
  },
  {
   "cell_type": "code",
   "execution_count": 14,
   "id": "8fb586fa-ff35-44e5-8e7e-caeeb82e43f7",
   "metadata": {
    "tags": []
   },
   "outputs": [
    {
     "name": "stdout",
     "output_type": "stream",
     "text": [
      "[0] 0.032064096324280186\n",
      "[1] 0.9679024705780148\n",
      "[2] 3.34330976880382e-05\n"
     ]
    },
    {
     "name": "stderr",
     "output_type": "stream",
     "text": [
      "/var/folders/xt/z7_sd24x7mgbzdyf93ck8ph00000gn/T/ipykernel_95194/3450508364.py:2: DeprecationWarning: `product` is deprecated as of NumPy 1.25.0, and will be removed in NumPy 2.0. Please use `prod` instead.\n",
      "  fidelities = simulation_engine.compute_fidelities(simulated_states)\n"
     ]
    },
    {
     "data": {
      "image/png": "[encoded data removed]",
      "text/plain": [
       "<Figure size 640x480 with 1 Axes>"
      ]
     },
     "metadata": {},
     "output_type": "display_data"
    }
   ],
   "source": [
    "simulated_states = simulation_results['output_states']\n",
    "fidelities = simulation_engine.compute_fidelities(simulated_states)\n",
    "plot_fidelities(fidelities,sim_time_list,time_label='Time / ns');"
   ]
  },
  {
   "cell_type": "markdown",
   "id": "b930f402-f59f-4d76-a7a0-4d76bc25af59",
   "metadata": {
    "tags": []
   },
   "source": [
    "### Print out the Pulse Sequence"
   ]
  },
  {
   "cell_type": "code",
   "execution_count": 15,
   "id": "be999fa5-8eb8-410f-9ffb-c1a76b75d4ce",
   "metadata": {},
   "outputs": [],
   "source": [
    "from qibolab.instruments.emulator.pulse_simulator import ps_to_waveform_dict, truncate_ro_pulses\n",
    "pulse_simulator = emulator_platform.instruments['pulse_simulator']\n",
    "channel_waveforms = ps_to_waveform_dict(\n",
    "            truncate_ro_pulses(sequence),\n",
    "            pulse_simulator.platform_to_simulator_channels,\n",
    "            pulse_simulator.sampling_rate,\n",
    "            pulse_simulator.sim_sampling_boost,\n",
    "            pulse_simulator.runcard_duration_in_dt_units,\n",
    "        )"
   ]
  },
  {
   "cell_type": "markdown",
   "id": "92dd1f5b",
   "metadata": {
    "tags": []
   },
   "source": [
    "### Plot the Simulated Waveform"
   ]
  },
  {
   "cell_type": "code",
   "execution_count": 16,
   "id": "31299009-4f59-4678-985b-5ad8ad6cdf2a",
   "metadata": {
    "tags": []
   },
   "outputs": [
    {
     "data": {
      "text/plain": [
       "<matplotlib.legend.Legend at 0x15e7bb970>"
      ]
     },
     "execution_count": 16,
     "metadata": {},
     "output_type": "execute_result"
    },
    {
     "data": {
      "image/png": "[encoded data removed]",
      "text/plain": [
       "<Figure size 640x480 with 1 Axes>"
      ]
     },
     "metadata": {},
     "output_type": "display_data"
    }
   ],
   "source": [
    "import matplotlib.pyplot as plt\n",
    "plt.plot(channel_waveforms['time'],channel_waveforms['channels']['D-0'], label='simulated waveform')\n",
    "plt.xlabel('Time / ns')\n",
    "plt.ylabel('Amplitude')\n",
    "plt.legend()"
   ]
  },
  {
   "cell_type": "markdown",
   "id": "e02d3d0f-f495-429e-92ce-9dd0bead156a",
   "metadata": {
    "tags": []
   },
   "source": [
    "### Perform sampling and apply readout noise"
   ]
  },
  {
   "cell_type": "code",
   "execution_count": 50,
   "id": "b2bb5cb7-e7d6-4732-9deb-941b40c957aa",
   "metadata": {
    "tags": []
   },
   "outputs": [
    {
     "data": {
      "text/plain": [
       "3.774758283725532e-15"
      ]
     },
     "execution_count": 50,
     "metadata": {},
     "output_type": "execute_result"
    }
   ],
   "source": [
    "final_state = simulated_states[-1]\n",
    "final_state.norm()-1"
   ]
  },
  {
   "cell_type": "code",
   "execution_count": 21,
   "id": "e6dea4c3-ad92-4d40-97a0-2558d37fbbfa",
   "metadata": {},
   "outputs": [],
   "source": [
    "from qibolab.instruments.emulator.pulse_simulator import get_samples\n",
    "ro_qubit_list = [pulse_r0.qubit]\n",
    "ro_reduced_dm, rdm_qubit_list = pulse_simulator.simulation_engine.qobj_to_reduced_dm(final_state, ro_qubit_list)\n",
    "samples = get_samples(1000, ro_reduced_dm, rdm_qubit_list, pulse_simulator.simulation_engine.qid_nlevels_map)"
   ]
  },
  {
   "cell_type": "markdown",
   "id": "15fbd0fb-d92b-48e1-89c0-8dd0705ee500",
   "metadata": {},
   "source": [
    "samples without noise:"
   ]
  },
  {
   "cell_type": "code",
   "execution_count": 52,
   "id": "73818980-4884-41b5-b7e6-533fcbfdbcb6",
   "metadata": {},
   "outputs": [
    {
     "data": {
      "text/plain": [
       "([1, 1, 1, 1, 1, 1, 1, 0, 1, 1, 1, 1, 1, 1, 1, 1, 1, 1, 1, 0], 964)"
      ]
     },
     "execution_count": 52,
     "metadata": {},
     "output_type": "execute_result"
    }
   ],
   "source": [
    "samples[0][:20], np.sum(samples[0])"
   ]
  },
  {
   "cell_type": "markdown",
   "id": "a518775e-af5b-485c-b88a-c4a408f9fa17",
   "metadata": {},
   "source": [
    "Apply `readout_error` to `samples` get `noisy_samples`:"
   ]
  },
  {
   "cell_type": "code",
   "execution_count": 53,
   "id": "70366ebc-0605-4b66-a954-ccdd6f41aebf",
   "metadata": {},
   "outputs": [
    {
     "data": {
      "text/plain": [
       "([1, 1, 1, 1, 1, 1, 1, 0, 1, 1, 1, 1, 0, 1, 1, 1, 1, 1, 0, 0], 873)"
      ]
     },
     "execution_count": 53,
     "metadata": {},
     "output_type": "execute_result"
    }
   ],
   "source": [
    "import numpy as np\n",
    "from qibolab.instruments.emulator.pulse_simulator import apply_readout_noise\n",
    "\n",
    "readout_error = {0: [0.1, 0.1], 1: [0.1, 0.1]}\n",
    "noisy_samples = apply_readout_noise(samples, readout_error)\n",
    "noisy_samples[0][:20], np.sum(noisy_samples[0])"
   ]
  },
  {
   "cell_type": "markdown",
   "id": "27c2f703-d9e9-411f-bb43-63c51088a1c2",
   "metadata": {
    "tags": []
   },
   "source": [
    "## Example 2. Pulse-level Simulation of X0 Gate"
   ]
  },
  {
   "cell_type": "markdown",
   "id": "a5062adf-c275-4003-aeaa-882e56ac8db8",
   "metadata": {
    "tags": []
   },
   "source": [
    "### Preparation: 1. Construct qibolab backend with transpiler settings"
   ]
  },
  {
   "cell_type": "code",
   "execution_count": 44,
   "id": "3f042aae-317b-4535-ba5b-0010f614a9e0",
   "metadata": {
    "tags": []
   },
   "outputs": [],
   "source": [
    "from qibolab.backends import QibolabBackend\n",
    "#from qibo.transpiler.pipeline import Passes\n",
    "\n",
    "# define a compiler rule that translates X to the pi-pulse\n",
    "def x_rule(gate, platform):\n",
    "    \"\"\"X gate applied with a single pi-pulse.\"\"\"\n",
    "    qubit = gate.target_qubits[0]\n",
    "    sequence = PulseSequence()\n",
    "    sequence.add(platform.create_RX_pulse(qubit, start=0))\n",
    "    return sequence, {}\n",
    "\n",
    "emulator_backend = QibolabBackend(platform=emulator_platform)\n",
    "# disable the transpiler\n",
    "emulator_backend.transpiler = None\n",
    "# register the new X rule in the compiler\n",
    "emulator_backend.compiler[gates.X] = x_rule"
   ]
  },
  {
   "cell_type": "code",
   "execution_count": 45,
   "id": "8795febd-e00e-4e95-b108-51ff3a365643",
   "metadata": {
    "tags": []
   },
   "outputs": [],
   "source": [
    "zerostate = simulation_engine.psi0.copy()"
   ]
  },
  {
   "cell_type": "markdown",
   "id": "19c7935c-9aa4-4856-a7af-4ce28d69b934",
   "metadata": {
    "tags": []
   },
   "source": [
    "### Preparation: 2. Prepare test state - X0 gate"
   ]
  },
  {
   "cell_type": "code",
   "execution_count": 46,
   "id": "eef87e9e-c062-46cf-95f7-b43ea2014d00",
   "metadata": {
    "tags": []
   },
   "outputs": [
    {
     "name": "stdout",
     "output_type": "stream",
     "text": [
      "qibo test statevector [0. 1.]\n",
      "Quantum object: dims = [[3], [1]], shape = (3, 1), type = ket\n",
      "Qobj data =\n",
      "[[0.]\n",
      " [1.]\n",
      " [0.]]\n"
     ]
    }
   ],
   "source": [
    "from qutip import Qobj\n",
    "import numpy as np\n",
    "\n",
    "# prepare test state\n",
    "qibo_statevector = np.array([0.,1.])\n",
    "sim_statevector = np.array([0.,1.,0.])\n",
    "teststate = simulation_engine.make_arbitrary_state(sim_statevector)\n",
    "\n",
    "# initialize with |00> state\n",
    "#simulation_engine.psi0 = zerostate\n",
    "# initialize with test state\n",
    "simulation_engine.psi0 = teststate\n",
    "\n",
    "print(\"qibo test statevector\", qibo_statevector)\n",
    "print(simulation_engine.psi0)"
   ]
  },
  {
   "cell_type": "markdown",
   "id": "73082dee-0464-47c8-a76b-91cf80863782",
   "metadata": {
    "tags": []
   },
   "source": [
    "### Preparation: 3. Construct the Circuit"
   ]
  },
  {
   "cell_type": "code",
   "execution_count": 47,
   "id": "4c4b1db4-7e61-491a-98f8-ba209bd375d7",
   "metadata": {
    "tags": []
   },
   "outputs": [
    {
     "name": "stdout",
     "output_type": "stream",
     "text": [
      "q0: ─X─M─\n",
      "Counter({'0': 1000})\n"
     ]
    },
    {
     "data": {
      "text/plain": [
       "array([1.+0.j, 0.+0.j])"
      ]
     },
     "execution_count": 47,
     "metadata": {},
     "output_type": "execute_result"
    }
   ],
   "source": [
    "from qibo.models import Circuit\n",
    "from qibo import gates\n",
    "\n",
    "circ_x0 = Circuit(1)\n",
    "circ_x0.add(gates.X(0))\n",
    "circ_x0.add(gates.M(*range(1)))\n",
    "circ_x0_job = circ_x0(qibo_statevector,nshots=1000)\n",
    "ideal_x0_results = circ_x0_job.frequencies()\n",
    "\n",
    "print(circ_x0.draw())\n",
    "print(ideal_x0_results)\n",
    "circ_x0_job.state()"
   ]
  },
  {
   "cell_type": "markdown",
   "id": "404a114c-8e3f-46cb-8b27-665bbcc3dcbc",
   "metadata": {
    "tags": []
   },
   "source": [
    "### Execution: Perform Pulse-level Simulation of the X0 Gate"
   ]
  },
  {
   "cell_type": "code",
   "execution_count": 48,
   "id": "6c485be2-c20e-4fd2-82ab-ff6a81b71d29",
   "metadata": {
    "tags": []
   },
   "outputs": [
    {
     "name": "stderr",
     "output_type": "stream",
     "text": [
      "[Qibo 0.2.6|INFO|2024-05-17 19:43:24]: Connecting to instrument <qibolab.instruments.emulator.pulse_simulator.PulseSimulator object at 0x104ad8070>.\n",
      "INFO:qibo.config:Connecting to instrument <qibolab.instruments.emulator.pulse_simulator.PulseSimulator object at 0x104ad8070>.\n",
      "[Qibo 0.2.6|INFO|2024-05-17 19:43:24]: Minimal execution time (sequence): 0.30501333333333336\n",
      "INFO:qibo.config:Minimal execution time (sequence): 0.30501333333333336\n"
     ]
    },
    {
     "name": "stdout",
     "output_type": "stream",
     "text": [
      " Total run time:   1.45s*] Elapsed 1.45s / Remaining 00:00:00:00\n"
     ]
    }
   ],
   "source": [
    "#x0\n",
    "backend_job = emulator_backend.execute_circuit(circ_x0, nshots=1000)"
   ]
  },
  {
   "cell_type": "code",
   "execution_count": 49,
   "id": "ed823a24-8f44-40ff-96a1-f47d0842b764",
   "metadata": {},
   "outputs": [
    {
     "data": {
      "text/plain": [
       "Counter({'0': 963, '1': 37})"
      ]
     },
     "execution_count": 49,
     "metadata": {},
     "output_type": "execute_result"
    }
   ],
   "source": [
    "backend_job.frequencies()"
   ]
  },
  {
   "cell_type": "markdown",
   "id": "86cb1888-a07b-4efc-b873-001a2b8b0738",
   "metadata": {
    "tags": []
   },
   "source": [
    "## Example 3: Sweeper"
   ]
  },
  {
   "cell_type": "code",
   "execution_count": 28,
   "id": "e0690c99-11a0-45a0-87c2-f81ba39f3bf6",
   "metadata": {
    "tags": []
   },
   "outputs": [],
   "source": [
    "from qibolab.sweeper import Sweeper, Parameter\n",
    "\n",
    "parameter = Parameter.duration\n",
    "parameter2 = Parameter.amplitude\n",
    "parameter_range = np.linspace(155/4.5, 165/4.5, num=3)\n",
    "parameter2_range = np.linspace(0.23045125169257026, 0.25045125169257026, num=3)\n",
    "sweeper = Sweeper(parameter, parameter_range, [pulse_x0])\n",
    "sweeper2 = Sweeper(parameter2, parameter2_range, [pulse_x0])"
   ]
  },
  {
   "cell_type": "code",
   "execution_count": 29,
   "id": "9012c9b0-74a2-420f-8c4c-2c1addb16803",
   "metadata": {},
   "outputs": [
    {
     "name": "stderr",
     "output_type": "stream",
     "text": [
      "[Qibo 0.2.6|INFO|2024-05-17 19:28:16]: Minimal execution time (sweep): 11.24409344\n",
      "INFO:qibo.config:Minimal execution time (sweep): 11.24409344\n"
     ]
    },
    {
     "name": "stdout",
     "output_type": "stream",
     "text": [
      "sweep param: duration\n",
      "values [34.44444444 35.55555556 36.66666667]\n",
      "sweep param: amplitude\n",
      "values [0.23045125 0.24045125 0.25045125]\n",
      " Total run time:   1.42s*] Elapsed 1.42s / Remaining 00:00:00:00\n",
      " [*********57%*          ] Elapsed 0.85s / Remaining 00:00:00:00[*******  31%           ] Elapsed 0.44s / Remaining 00:00:00:00"
     ]
    },
    {
     "name": "stderr",
     "output_type": "stream",
     "text": [
      "IOPub message rate exceeded.\n",
      "The Jupyter server will temporarily stop sending output\n",
      "to the client in order to avoid crashing it.\n",
      "To change this limit, set the config variable\n",
      "`--ServerApp.iopub_msg_rate_limit`.\n",
      "\n",
      "Current values:\n",
      "ServerApp.iopub_msg_rate_limit=1000.0 (msgs/sec)\n",
      "ServerApp.rate_limit_window=3.0 (secs)\n",
      "\n"
     ]
    },
    {
     "name": "stdout",
     "output_type": "stream",
     "text": [
      " Total run time:   1.35s*] Elapsed 1.35s / Remaining 00:00:00:00\n",
      "sweep param: amplitude\n",
      "values [0.23045125 0.24045125 0.25045125]\n",
      " Total run time:   1.77s*] Elapsed 1.77s / Remaining 00:00:00:00\n",
      " [*         4%           ] Elapsed 0.04s / Remaining 00:00:00:00"
     ]
    },
    {
     "name": "stderr",
     "output_type": "stream",
     "text": [
      "IOPub message rate exceeded.\n",
      "The Jupyter server will temporarily stop sending output\n",
      "to the client in order to avoid crashing it.\n",
      "To change this limit, set the config variable\n",
      "`--ServerApp.iopub_msg_rate_limit`.\n",
      "\n",
      "Current values:\n",
      "ServerApp.iopub_msg_rate_limit=1000.0 (msgs/sec)\n",
      "ServerApp.rate_limit_window=3.0 (secs)\n",
      "\n"
     ]
    },
    {
     "name": "stdout",
     "output_type": "stream",
     "text": [
      " Total run time:   1.36s*] Elapsed 1.36s / Remaining 00:00:00:00[*********90%*********  ] Elapsed 1.26s / Remaining 00:00:00:00\n",
      " [*********82%*******    ] Elapsed 1.15s / Remaining 00:00:00:00"
     ]
    },
    {
     "name": "stderr",
     "output_type": "stream",
     "text": [
      "IOPub message rate exceeded.\n",
      "The Jupyter server will temporarily stop sending output\n",
      "to the client in order to avoid crashing it.\n",
      "To change this limit, set the config variable\n",
      "`--ServerApp.iopub_msg_rate_limit`.\n",
      "\n",
      "Current values:\n",
      "ServerApp.iopub_msg_rate_limit=1000.0 (msgs/sec)\n",
      "ServerApp.rate_limit_window=3.0 (secs)\n",
      "\n"
     ]
    },
    {
     "name": "stdout",
     "output_type": "stream",
     "text": [
      " [*********53%           ] Elapsed 0.78s / Remaining 00:00:00:00\r"
     ]
    },
    {
     "name": "stderr",
     "output_type": "stream",
     "text": [
      "IOPub message rate exceeded.\n",
      "The Jupyter server will temporarily stop sending output\n",
      "to the client in order to avoid crashing it.\n",
      "To change this limit, set the config variable\n",
      "`--ServerApp.iopub_msg_rate_limit`.\n",
      "\n",
      "Current values:\n",
      "ServerApp.iopub_msg_rate_limit=1000.0 (msgs/sec)\n",
      "ServerApp.rate_limit_window=3.0 (secs)\n",
      "\n"
     ]
    },
    {
     "name": "stdout",
     "output_type": "stream",
     "text": [
      " Total run time:   1.50s*] Elapsed 1.50s / Remaining 00:00:00:00\n",
      " [*********69%****       ] Elapsed 0.94s / Remaining 00:00:00:00"
     ]
    },
    {
     "name": "stderr",
     "output_type": "stream",
     "text": [
      "IOPub message rate exceeded.\n",
      "The Jupyter server will temporarily stop sending output\n",
      "to the client in order to avoid crashing it.\n",
      "To change this limit, set the config variable\n",
      "`--ServerApp.iopub_msg_rate_limit`.\n",
      "\n",
      "Current values:\n",
      "ServerApp.iopub_msg_rate_limit=1000.0 (msgs/sec)\n",
      "ServerApp.rate_limit_window=3.0 (secs)\n",
      "\n"
     ]
    }
   ],
   "source": [
    "# output only final state\n",
    "emulator_platform.instruments['pulse_simulator'].output_state_history = False\n",
    "sweep_results = emulator_platform.sweep(sequence, ExecutionParameters(), sweeper, sweeper2)"
   ]
  },
  {
   "cell_type": "code",
   "execution_count": 31,
   "id": "37ac5613-2c25-4344-b5bf-4604ed2859d1",
   "metadata": {},
   "outputs": [
    {
     "name": "stderr",
     "output_type": "stream",
     "text": [
      "/var/folders/xt/z7_sd24x7mgbzdyf93ck8ph00000gn/T/ipykernel_95194/662018979.py:8: DeprecationWarning: `product` is deprecated as of NumPy 1.25.0, and will be removed in NumPy 2.0. Please use `prod` instead.\n",
      "  pulse_simulator.merge_sweep_results(fidelities, simulation_engine.compute_fidelities(final_states_array[tuple(index)]))\n"
     ]
    }
   ],
   "source": [
    "from qibolab.instruments.emulator.pulse_simulator import make_array_index_list\n",
    "\n",
    "final_states_array = sweep_results['simulation']['output_states']\n",
    "shape = final_states_array.shape\n",
    "index_list = make_array_index_list(shape)\n",
    "fidelities = {}\n",
    "for index in index_list:\n",
    "    pulse_simulator.merge_sweep_results(fidelities, simulation_engine.compute_fidelities(final_states_array[tuple(index)]))"
   ]
  },
  {
   "cell_type": "code",
   "execution_count": 32,
   "id": "920a47f1-fd72-470c-bbf8-84bb2fafa45b",
   "metadata": {},
   "outputs": [
    {
     "data": {
      "image/png": "[encoded data removed]",
      "text/plain": [
       "<Figure size 640x480 with 2 Axes>"
      ]
     },
     "metadata": {},
     "output_type": "display_data"
    },
    {
     "data": {
      "image/png": "[encoded data removed]",
      "text/plain": [
       "<Figure size 640x480 with 2 Axes>"
      ]
     },
     "metadata": {},
     "output_type": "display_data"
    },
    {
     "data": {
      "image/png": "[encoded data removed]",
      "text/plain": [
       "<Figure size 640x480 with 2 Axes>"
      ]
     },
     "metadata": {},
     "output_type": "display_data"
    }
   ],
   "source": [
    "import matplotlib.pyplot as plt\n",
    "for label in fidelities.keys():\n",
    "    plt.figure()\n",
    "    plt.pcolormesh(np.array(fidelities[label]).reshape([3,3]))\n",
    "    plt.colorbar()\n",
    "    plt.title(f'Final state overlap with {label}')\n",
    "    plt.show()"
   ]
  },
  {
   "cell_type": "markdown",
   "id": "ed868b1f",
   "metadata": {},
   "source": [
    "## --- Version information for major packages used in the current Qibolab emulator example ---"
   ]
  },
  {
   "cell_type": "code",
   "execution_count": null,
   "id": "f78416d6-33a7-4350-86c1-c64fb3fe80ab",
   "metadata": {},
   "outputs": [],
   "source": [
    "%load_ext watermark"
   ]
  },
  {
   "cell_type": "code",
   "execution_count": null,
   "id": "38340640-9e0b-40b3-9952-d4cabef2e277",
   "metadata": {},
   "outputs": [],
   "source": [
    "%watermark -v -p qibolab,qibo,qutip,matplotlib,numpy,scipy"
   ]
  }
 ],
 "metadata": {
  "kernelspec": {
   "display_name": "Python 3 (ipykernel)",
   "language": "python",
   "name": "python3"
  },
  "language_info": {
   "codemirror_mode": {
    "name": "ipython",
    "version": 3
   },
   "file_extension": ".py",
   "mimetype": "text/x-python",
   "name": "python",
   "nbconvert_exporter": "python",
   "pygments_lexer": "ipython3",
   "version": "3.9.18"
  }
 },
 "nbformat": 4,
 "nbformat_minor": 5
}
